{
  "cells": [
    {
      "cell_type": "markdown",
      "metadata": {
        "id": "qG7Ppv6mlYQ8"
      },
      "source": [
        "# HPC assignment 3\n"
      ]
    },
    {
      "cell_type": "markdown",
      "metadata": {
        "id": "Ha-XW2FxlfoA"
      },
      "source": [
        "## Task 2.5\n",
        "Use PyTorch to port your code to Nvidia GPUs. For this, you must express the two nested loop operations as NumPy roll operations in 2D as we did for the diffusion code. If you don't have an Nvidia GPU, you can use the Google Colab, as in [3.9.1 Tutorial: Use Google Colab GPUs for PyTorch+GPU](https://canvas.kth.se/courses/44840/pages/3-dot-9-1-tutorial-use-google-colab-gpus-for-pytorch+gpu?wrap=1 \"3.9.1 Tutorial: Use Google Colab GPUs for PyTorch+GPU\")[3.9.1 Tutorial: Use Google Colab GPUs for PyTorch+GPU](https://canvas.kth.se/courses/44840/pages/3-dot-9-1-tutorial-use-google-colab-gpus-for-pytorch+gpu?wrap=1 \"3.9.1 Tutorial: Use Google Colab GPUs for PyTorch+GPU\"))\n",
        "\n",
        "**For this task, we use a different and simpler scheme called Jacobi, where  `f[i-1,j]` and `f[i,j-1]` are calculated at time n instead on n+1.** In this way, we remove the calculation dependencies on the new time step, and it can be easily vectorized.\n"
      ]
    },
    {
      "cell_type": "code",
      "execution_count": 1,
      "metadata": {
        "colab": {
          "base_uri": "https://localhost:8080/",
          "height": 35
        },
        "id": "3bH8zMr9nlDD",
        "outputId": "8c40bebb-9e9b-459c-c9ab-a3631bcd27a1"
      },
      "outputs": [
        {
          "data": {
            "application/vnd.google.colaboratory.intrinsic+json": {
              "type": "string"
            },
            "text/plain": [
              "'cuda'"
            ]
          },
          "execution_count": 1,
          "metadata": {},
          "output_type": "execute_result"
        }
      ],
      "source": [
        "import torch\n",
        "\"cuda\" if torch.cuda.is_available() else \"cpu\""
      ]
    },
    {
      "cell_type": "code",
      "execution_count": 2,
      "metadata": {
        "id": "9S-6uWIvl0cv"
      },
      "outputs": [],
      "source": [
        "def gauss_seidel_torch(f: torch.Tensor):\n",
        "    \"\"\"\n",
        "    Applies the Gauss-Seidel method to solve a system of linear equations represented by the input tensor.\n",
        "\n",
        "    Parameters:\n",
        "    f (torch.Tensor): The input tensor representing the system of linear equations.\n",
        "\n",
        "    Returns:\n",
        "    torch.Tensor: The updated tensor after applying the Gauss-Seidel method.\n",
        "    \"\"\"\n",
        "    newf = f.clone().detach()\n",
        "    device = torch.device(\"cuda\" if torch.cuda.is_available() else \"cpu\")\n",
        "    newf = newf.to(device)\n",
        "\n",
        "    for _ in range(1, newf.shape[0] - 1):\n",
        "        newf[1:-1, 1:-1] = 0.25 * (\n",
        "            torch.roll(newf, 1, dims=0)[1:-1, 1:-1]\n",
        "            + torch.roll(newf, -1, dims=0)[1:-1, 1:-1]\n",
        "            + torch.roll(newf, 1, dims=1)[1:-1, 1:-1]\n",
        "            + torch.roll(newf, -1, dims=1)[1:-1, 1:-1]\n",
        "        )\n",
        "\n",
        "    return newf"
      ]
    },
    {
      "cell_type": "markdown",
      "metadata": {
        "id": "UZNVXIsYlkfU"
      },
      "source": [
        "## Task 2.6\n",
        "Use CuPy to port your code to Nvidia GPUs. See [C.3 Tutorial - Introduction to CuPy](https://canvas.kth.se/courses/44840/pages/c-dot-3-tutorial-introduction-to-cupy?wrap=1 \"C.3 Tutorial - Introduction to CuPy\")[C.3 Tutorial - Introduction to CuPy](https://canvas.kth.se/courses/44840/pages/c-dot-3-tutorial-introduction-to-cupy?wrap=1 \"C.3 Tutorial - Introduction to CuPy\")"
      ]
    },
    {
      "cell_type": "code",
      "execution_count": 3,
      "metadata": {
        "id": "4JmgYQ_3t5dc"
      },
      "outputs": [],
      "source": [
        "import cupy as cp"
      ]
    },
    {
      "cell_type": "code",
      "execution_count": 4,
      "metadata": {
        "id": "qNTFfYdRl1nX"
      },
      "outputs": [],
      "source": [
        "def gauss_seidel_cupy(f: cp.ndarray):\n",
        "    \"\"\"\n",
        "    Applies the Gauss-Seidel method to solve a 2D array using the Cupy library.\n",
        "\n",
        "    Args:\n",
        "        f (cp.ndarray): The input 2D array.\n",
        "\n",
        "    Returns:\n",
        "        cp.ndarray: The updated 2D array after applying the Gauss-Seidel method.\n",
        "    \"\"\"\n",
        "    newf = cp.array(f)\n",
        "\n",
        "    for i in range(1, newf.shape[0] - 1):\n",
        "          newf[1:-1, 1:-1] = 0.25 * (\n",
        "            cp.roll(newf, 1, axis=0)[1:-1, 1:-1]\n",
        "            + cp.roll(newf, -1, axis=0)[1:-1, 1:-1]\n",
        "            + cp.roll(newf, 1, axis=1)[1:-1, 1:-1]\n",
        "            + cp.roll(newf, -1, axis=1)[1:-1, 1:-1]\n",
        "        )\n",
        "\n",
        "\n",
        "    return newf"
      ]
    },
    {
      "cell_type": "markdown",
      "metadata": {
        "id": "yosmBZ44lnJP"
      },
      "source": [
        "## Task 2.7\n",
        "Measure the performance (execution time) with GPU (PyTorch and CuPy) and make a plot of the execution time varying the size of the grid. Compare and comment on the performance difference with and without GPU."
      ]
    },
    {
      "cell_type": "code",
      "execution_count": 5,
      "metadata": {
        "id": "67OW3gcfwL5G"
      },
      "outputs": [],
      "source": [
        "import matplotlib.pyplot as plt"
      ]
    },
    {
      "cell_type": "code",
      "execution_count": null,
      "metadata": {
        "colab": {
          "base_uri": "https://localhost:8080/"
        },
        "id": "5hQd0coi4NZf",
        "outputId": "b08737cd-82c3-4997-ec6a-8cf71633e62f"
      },
      "outputs": [
        {
          "name": "stdout",
          "output_type": "stream",
          "text": [
            "100\n"
          ]
        }
      ],
      "source": [
        "from array import array\n",
        "import numpy as np\n",
        "import random\n",
        "import array\n",
        "import copy\n",
        "from functools import wraps\n",
        "from timeit import default_timer as timer\n",
        "import matplotlib.pyplot as plt\n",
        "\n",
        "def timefn(fn):\n",
        "    from timeit import default_timer as timer\n",
        "    @wraps(fn)\n",
        "    def measure_time(*args, **kwargs):\n",
        "        t1 = timer()\n",
        "        result = fn(*args, **kwargs)\n",
        "        t2 = timer()\n",
        "        time_delta = t2 - t1\n",
        "        return result, time_delta  # return result and time delta\n",
        "    return measure_time\n",
        "\n",
        "\n",
        "ITERS = 1\n",
        "\n",
        "\n",
        "@timefn\n",
        "def runGauss_torch(f):\n",
        "  for i in range(ITERS):\n",
        "        f = gauss_seidel_torch(f)\n",
        "@timefn\n",
        "def runGauss_cupy(f):\n",
        "    for i in range(ITERS):\n",
        "        f = gauss_seidel_cupy(f)\n",
        "\n",
        "\n",
        "def main():\n",
        "    times = [[],[]]\n",
        "    with open(\"torch.dat\", \"w\") as file:\n",
        "      pass\n",
        "    with open(\"cupy.dat\", \"w\") as file:\n",
        "      pass\n",
        "    y = [100,200,300,400,500]\n",
        "    for N in y:\n",
        "        print(N)\n",
        "        pyList = [[random.random()] * N for _ in range(N)]\n",
        "        pyArray = array.array('d', [random.random()] * N * N)\n",
        "        numpyArray = np.random.rand(N, N)\n",
        "        torchTensor = torch.rand(N, N)\n",
        "        cudaArray =  cp.random.rand(N, N)\n",
        "        _, torch_time = runGauss_torch(torchTensor)\n",
        "        _, cupy_time = runGauss_cupy(cudaArray)\n",
        "        times[0].append(torch_time)\n",
        "        times[1].append(cupy_time)\n",
        "        with open(\"torch.dat\", \"a\") as file:\n",
        "          file.write(f\"{N}, {torch_time}\\n\")\n",
        "        with open(\"cupy.dat\", \"a\") as file:\n",
        "          pass\n",
        "          file.write(f\"{N}, {cupy_time}\\n\")\n",
        "\n",
        "    return times, y\n",
        "\n",
        "\n",
        "\n",
        "\n",
        "times, y = main()\n",
        "plt.plot(y,times[0],label=\"PyTorch\")\n",
        "plt.plot(y,times[1], label=\"CuPy\")\n",
        "plt.xlabel(\"Grid Size\")\n",
        "plt.ylabel(\"Execution Time (s)\")\n",
        "plt.title(\"Execution Time of Gauss-Seidel Method\")\n",
        "plt.legend()\n",
        "plt.show()"
      ]
    },
    {
      "cell_type": "markdown",
      "metadata": {
        "id": "VyvEdCRKlpNM"
      },
      "source": [
        "## Task 2.8\n",
        "Save the newgrid matrix as an hdf5 file using h5py  (see the tutorial [C.4 Tutorial - The HDF5 Library/Module](https://canvas.kth.se/courses/44840/pages/c-dot-4-tutorial-the-hdf5-library-slash-module?wrap=1 \"C.4 Tutorial - The HDF5 Library/Module\")[C.4 Tutorial - The HDF5 Library/Module](https://canvas.kth.se/courses/44840/pages/c-dot-4-tutorial-the-hdf5-library-slash-module?wrap=1 \"C.4 Tutorial - The HDF5 Library/Module\"))."
      ]
    },
    {
      "cell_type": "code",
      "execution_count": null,
      "metadata": {
        "id": "w_FiUMYVlxfy"
      },
      "outputs": [],
      "source": []
    }
  ],
  "metadata": {
    "accelerator": "GPU",
    "colab": {
      "gpuType": "T4",
      "provenance": []
    },
    "kernelspec": {
      "display_name": "Python 3",
      "name": "python3"
    },
    "language_info": {
      "name": "python"
    }
  },
  "nbformat": 4,
  "nbformat_minor": 0
}
