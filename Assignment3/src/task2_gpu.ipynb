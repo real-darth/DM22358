{
  "nbformat": 4,
  "nbformat_minor": 0,
  "metadata": {
    "colab": {
      "provenance": [],
      "gpuType": "T4"
    },
    "kernelspec": {
      "name": "python3",
      "display_name": "Python 3"
    },
    "language_info": {
      "name": "python"
    },
    "accelerator": "GPU"
  },
  "cells": [
    {
      "cell_type": "markdown",
      "source": [
        "# HPC assignment 3\n"
      ],
      "metadata": {
        "id": "qG7Ppv6mlYQ8"
      }
    },
    {
      "cell_type": "markdown",
      "source": [
        "## Task 2.5\n",
        "Use PyTorch to port your code to Nvidia GPUs. For this, you must express the two nested loop operations as NumPy roll operations in 2D as we did for the diffusion code. If you don't have an Nvidia GPU, you can use the Google Colab, as in [3.9.1 Tutorial: Use Google Colab GPUs for PyTorch+GPU](https://canvas.kth.se/courses/44840/pages/3-dot-9-1-tutorial-use-google-colab-gpus-for-pytorch+gpu?wrap=1 \"3.9.1 Tutorial: Use Google Colab GPUs for PyTorch+GPU\")[3.9.1 Tutorial: Use Google Colab GPUs for PyTorch+GPU](https://canvas.kth.se/courses/44840/pages/3-dot-9-1-tutorial-use-google-colab-gpus-for-pytorch+gpu?wrap=1 \"3.9.1 Tutorial: Use Google Colab GPUs for PyTorch+GPU\"))\n",
        "\n",
        "**For this task, we use a different and simpler scheme called Jacobi, where  `f[i-1,j]` and `f[i,j-1]` are calculated at time n instead on n+1.** In this way, we remove the calculation dependencies on the new time step, and it can be easily vectorized.\n"
      ],
      "metadata": {
        "id": "Ha-XW2FxlfoA"
      }
    },
    {
      "cell_type": "code",
      "source": [
        "import torch\n",
        "\"cuda\" if torch.cuda.is_available() else \"cpu\""
      ],
      "metadata": {
        "id": "3bH8zMr9nlDD",
        "colab": {
          "base_uri": "https://localhost:8080/",
          "height": 35
        },
        "outputId": "cf13603a-965c-409e-a8e6-0aed5827a860"
      },
      "execution_count": 11,
      "outputs": [
        {
          "output_type": "execute_result",
          "data": {
            "text/plain": [
              "'cuda'"
            ],
            "application/vnd.google.colaboratory.intrinsic+json": {
              "type": "string"
            }
          },
          "metadata": {},
          "execution_count": 11
        }
      ]
    },
    {
      "cell_type": "code",
      "source": [
        "def gauss_seidel_torch(f: torch.Tensor):\n",
        "    \"\"\"\n",
        "    Applies the Gauss-Seidel method to solve a system of linear equations represented by the input tensor.\n",
        "\n",
        "    Parameters:\n",
        "    f (torch.Tensor): The input tensor representing the system of linear equations.\n",
        "\n",
        "    Returns:\n",
        "    torch.Tensor: The updated tensor after applying the Gauss-Seidel method.\n",
        "    \"\"\"\n",
        "    newf = f.clone().detach()\n",
        "    device = torch.device(\"cuda\" if torch.cuda.is_available() else \"cpu\")\n",
        "    newf = newf.to(device)\n",
        "    newf[[-1,0],:] = 0\n",
        "    newf[:,[-1,0]] = 0\n",
        "\n",
        "\n",
        "    newf[1:-1, 1:-1] = 0.25 * (\n",
        "            torch.roll(newf, 1, dims=0)[1:-1, 1:-1]\n",
        "            + torch.roll(newf, -1, dims=0)[1:-1, 1:-1]\n",
        "            + torch.roll(newf, 1, dims=1)[1:-1, 1:-1]\n",
        "            + torch.roll(newf, -1, dims=1)[1:-1, 1:-1]\n",
        "        )\n",
        "\n",
        "    return newf"
      ],
      "metadata": {
        "id": "9S-6uWIvl0cv"
      },
      "execution_count": 12,
      "outputs": []
    },
    {
      "cell_type": "markdown",
      "source": [
        "## Task 2.6\n",
        "Use CuPy to port your code to Nvidia GPUs. See [C.3 Tutorial - Introduction to CuPy](https://canvas.kth.se/courses/44840/pages/c-dot-3-tutorial-introduction-to-cupy?wrap=1 \"C.3 Tutorial - Introduction to CuPy\")[C.3 Tutorial - Introduction to CuPy](https://canvas.kth.se/courses/44840/pages/c-dot-3-tutorial-introduction-to-cupy?wrap=1 \"C.3 Tutorial - Introduction to CuPy\")"
      ],
      "metadata": {
        "id": "UZNVXIsYlkfU"
      }
    },
    {
      "cell_type": "code",
      "source": [
        "import cupy as cp"
      ],
      "metadata": {
        "id": "4JmgYQ_3t5dc"
      },
      "execution_count": 13,
      "outputs": []
    },
    {
      "cell_type": "code",
      "source": [
        "def gauss_seidel_cupy(f: cp.ndarray):\n",
        "    \"\"\"\n",
        "    Applies the Gauss-Seidel method to solve a 2D array using the Cupy library.\n",
        "\n",
        "    Args:\n",
        "        f (cp.ndarray): The input 2D array.\n",
        "\n",
        "    Returns:\n",
        "        cp.ndarray: The updated 2D array after applying the Gauss-Seidel method.\n",
        "    \"\"\"\n",
        "    newf = cp.array(f)\n",
        "    newf[[-1,0],:] = 0\n",
        "    newf[:,[-1,0]] = 0\n",
        "\n",
        "\n",
        "    newf[1:-1, 1:-1] = 0.25 * (\n",
        "            cp.roll(newf, 1, axis=0)[1:-1, 1:-1]\n",
        "            + cp.roll(newf, -1, axis=0)[1:-1, 1:-1]\n",
        "            + cp.roll(newf, 1, axis=1)[1:-1, 1:-1]\n",
        "            + cp.roll(newf, -1, axis=1)[1:-1, 1:-1]\n",
        "        )\n",
        "\n",
        "\n",
        "    return newf"
      ],
      "metadata": {
        "id": "qNTFfYdRl1nX"
      },
      "execution_count": 14,
      "outputs": []
    },
    {
      "cell_type": "markdown",
      "source": [
        "## Task 2.7\n",
        "Measure the performance (execution time) with GPU (PyTorch and CuPy) and make a plot of the execution time varying the size of the grid. Compare and comment on the performance difference with and without GPU."
      ],
      "metadata": {
        "id": "yosmBZ44lnJP"
      }
    },
    {
      "cell_type": "code",
      "source": [
        "import matplotlib.pyplot as plt"
      ],
      "metadata": {
        "id": "67OW3gcfwL5G"
      },
      "execution_count": 15,
      "outputs": []
    },
    {
      "cell_type": "code",
      "source": [
        "from array import array\n",
        "import numpy as np\n",
        "import random\n",
        "import array\n",
        "import copy\n",
        "from functools import wraps\n",
        "from timeit import default_timer as timer\n",
        "import matplotlib.pyplot as plt\n",
        "\n",
        "def timefn(fn):\n",
        "    from timeit import default_timer as timer\n",
        "    @wraps(fn)\n",
        "    def measure_time(*args, **kwargs):\n",
        "        t1 = timer()\n",
        "        result = fn(*args, **kwargs)\n",
        "        t2 = timer()\n",
        "        time_delta = t2 - t1\n",
        "        return result, time_delta  # return result and time delta\n",
        "    return measure_time\n",
        "\n",
        "\n",
        "ITERS = 1000\n",
        "\n",
        "\n",
        "@timefn\n",
        "def runGauss_torch(f):\n",
        "  for i in range(ITERS):\n",
        "        f = gauss_seidel_torch(f)\n",
        "@timefn\n",
        "def runGauss_cupy(f):\n",
        "    for i in range(ITERS):\n",
        "        f = gauss_seidel_cupy(f)\n",
        "\n",
        "\n",
        "def main():\n",
        "    times = [[],[]]\n",
        "    with open(\"torch.dat\", \"w\") as file:\n",
        "      pass\n",
        "    with open(\"cupy.dat\", \"w\") as file:\n",
        "      pass\n",
        "    y = [100,200,300,400,500,600,700,800,900,1000]\n",
        "    for N in y:\n",
        "        print(N)\n",
        "        torchTensor = torch.rand(N, N)\n",
        "        cudaArray =  cp.random.rand(N, N)\n",
        "        _, torch_time = runGauss_torch(torchTensor)\n",
        "        _, cupy_time = runGauss_cupy(cudaArray)\n",
        "        times[0].append(torch_time)\n",
        "        times[1].append(cupy_time)\n",
        "        with open(\"torch.dat\", \"a\") as file:\n",
        "          file.write(f\"{N}, {torch_time}\\n\")\n",
        "        with open(\"cupy.dat\", \"a\") as file:\n",
        "          pass\n",
        "          file.write(f\"{N}, {cupy_time}\\n\")\n",
        "\n",
        "    return times, y\n",
        "\n",
        "\n",
        "\n",
        "\n",
        "times, y = main()\n",
        "plt.plot(y,times[0],label=\"PyTorch\")\n",
        "plt.plot(y,times[1], label=\"CuPy\")\n",
        "plt.xlabel(\"Grid Size\")\n",
        "plt.ylabel(\"Execution Time (s)\")\n",
        "plt.title(\"Execution Time of Gauss-Seidel Method\")\n",
        "plt.legend()\n",
        "plt.show()"
      ],
      "metadata": {
        "colab": {
          "base_uri": "https://localhost:8080/",
          "height": 646
        },
        "id": "5hQd0coi4NZf",
        "outputId": "3fdd62ae-687b-45c7-fb51-4fed2c96c408"
      },
      "execution_count": 17,
      "outputs": [
        {
          "output_type": "stream",
          "name": "stdout",
          "text": [
            "100\n",
            "200\n",
            "300\n",
            "400\n",
            "500\n",
            "600\n",
            "700\n",
            "800\n",
            "900\n",
            "1000\n"
          ]
        },
        {
          "output_type": "display_data",
          "data": {
            "text/plain": [
              "<Figure size 640x480 with 1 Axes>"
            ],
            "image/png": "[encoded data removed]"
          },
          "metadata": {}
        }
      ]
    },
    {
      "cell_type": "markdown",
      "source": [
        "## Task 2.8\n",
        "Save the newgrid matrix as an hdf5 file using h5py  (see the tutorial [C.4 Tutorial - The HDF5 Library/Module](https://canvas.kth.se/courses/44840/pages/c-dot-4-tutorial-the-hdf5-library-slash-module?wrap=1 \"C.4 Tutorial - The HDF5 Library/Module\")[C.4 Tutorial - The HDF5 Library/Module](https://canvas.kth.se/courses/44840/pages/c-dot-4-tutorial-the-hdf5-library-slash-module?wrap=1 \"C.4 Tutorial - The HDF5 Library/Module\"))."
      ],
      "metadata": {
        "id": "VyvEdCRKlpNM"
      }
    },
    {
      "cell_type": "code",
      "source": [
        "import h5py"
      ],
      "metadata": {
        "id": "0uBqvnpwdPFz"
      },
      "execution_count": 8,
      "outputs": []
    },
    {
      "cell_type": "markdown",
      "source": [
        "Save the matrix on a hdf5 file"
      ],
      "metadata": {
        "id": "8R7zTRvXexqw"
      }
    },
    {
      "cell_type": "code",
      "source": [
        "\n",
        "N=800\n",
        "torchTensor = torch.rand(N, N)\n",
        "runGauss_torch(torchTensor)\n",
        "with h5py.File('gauss.hdf5', 'w') as f:\n",
        "    # Crea un dataset para almacenar el tensor\n",
        "    dataset = f.create_dataset('tensor', (N, N), dtype='float32')\n",
        "\n",
        "    # Guarda el tensor en el dataset\n",
        "    dataset[:] = torchTensor.numpy()\n"
      ],
      "metadata": {
        "id": "w_FiUMYVlxfy"
      },
      "execution_count": 24,
      "outputs": []
    },
    {
      "cell_type": "markdown",
      "source": [
        "Check if was corrrected saved"
      ],
      "metadata": {
        "id": "C8iLH1hde1ZF"
      }
    },
    {
      "cell_type": "code",
      "source": [
        "f = h5py.File('gauss.hdf5', 'r')\n",
        "list(f.keys())"
      ],
      "metadata": {
        "colab": {
          "base_uri": "https://localhost:8080/"
        },
        "id": "HNk6u2hWewgC",
        "outputId": "16ef919d-974e-445e-86e1-624f9d0bffbe"
      },
      "execution_count": 25,
      "outputs": [
        {
          "output_type": "execute_result",
          "data": {
            "text/plain": [
              "['tensor']"
            ]
          },
          "metadata": {},
          "execution_count": 25
        }
      ]
    },
    {
      "cell_type": "code",
      "source": [
        "dset = f['tensor']\n",
        "print(dset.shape)\n",
        "dset.dtype"
      ],
      "metadata": {
        "colab": {
          "base_uri": "https://localhost:8080/"
        },
        "id": "F4_p_km9fGHx",
        "outputId": "06b6ed8d-061d-4ef8-9ba7-be609247187e"
      },
      "execution_count": 27,
      "outputs": [
        {
          "output_type": "stream",
          "name": "stdout",
          "text": [
            "(800, 800)\n"
          ]
        },
        {
          "output_type": "execute_result",
          "data": {
            "text/plain": [
              "dtype('<f4')"
            ]
          },
          "metadata": {},
          "execution_count": 27
        }
      ]
    }
  ]
}